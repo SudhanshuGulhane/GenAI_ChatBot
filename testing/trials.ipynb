{
 "cells": [
  {
   "cell_type": "code",
   "execution_count": 1,
   "metadata": {},
   "outputs": [],
   "source": [
    "import os\n",
    "os.chdir('../')"
   ]
  },
  {
   "cell_type": "code",
   "execution_count": 76,
   "metadata": {},
   "outputs": [],
   "source": [
    "import chromadb\n",
    "from langchain.vectorstores import Chroma"
   ]
  },
  {
   "cell_type": "code",
   "execution_count": 3,
   "metadata": {},
   "outputs": [],
   "source": [
    "from langchain.document_loaders import PyPDFLoader, DirectoryLoader\n",
    "from langchain.text_splitter import RecursiveCharacterTextSplitter"
   ]
  },
  {
   "cell_type": "code",
   "execution_count": 4,
   "metadata": {},
   "outputs": [],
   "source": [
    "def load_pdf_file(data):\n",
    "    loader= DirectoryLoader(data, glob=\"*.pdf\", loader_cls=PyPDFLoader)\n",
    "    documents=loader.load()\n",
    "    return documents"
   ]
  },
  {
   "cell_type": "code",
   "execution_count": 5,
   "metadata": {},
   "outputs": [],
   "source": [
    "extracted_data=load_pdf_file(data='data/')"
   ]
  },
  {
   "cell_type": "code",
   "execution_count": 6,
   "metadata": {},
   "outputs": [],
   "source": [
    "def split_text_data(extracted_data):\n",
    "    text_splitter=RecursiveCharacterTextSplitter(chunk_size=800, chunk_overlap=100)\n",
    "    text_chunks=text_splitter.split_documents(extracted_data)\n",
    "    return text_chunks"
   ]
  },
  {
   "cell_type": "code",
   "execution_count": 7,
   "metadata": {},
   "outputs": [
    {
     "name": "stdout",
     "output_type": "stream",
     "text": [
      "Length of Text Chunks 27045\n"
     ]
    }
   ],
   "source": [
    "text_chunks=split_text_data(extracted_data)\n",
    "print(\"Length of Text Chunks\", len(text_chunks))"
   ]
  },
  {
   "cell_type": "code",
   "execution_count": 8,
   "metadata": {},
   "outputs": [],
   "source": [
    "from langchain.embeddings import HuggingFaceEmbeddings"
   ]
  },
  {
   "cell_type": "code",
   "execution_count": 9,
   "metadata": {},
   "outputs": [],
   "source": [
    "def download_hugging_face_embeddings():\n",
    "    embeddings=HuggingFaceEmbeddings(model_name='sentence-transformers/all-MiniLM-L6-v2')\n",
    "    return embeddings"
   ]
  },
  {
   "cell_type": "code",
   "execution_count": 10,
   "metadata": {},
   "outputs": [
    {
     "name": "stderr",
     "output_type": "stream",
     "text": [
      "C:\\Users\\hp\\AppData\\Local\\Temp\\ipykernel_29896\\4043855499.py:2: LangChainDeprecationWarning: The class `HuggingFaceEmbeddings` was deprecated in LangChain 0.2.2 and will be removed in 1.0. An updated version of the class exists in the :class:`~langchain-huggingface package and should be used instead. To use it run `pip install -U :class:`~langchain-huggingface` and import as `from :class:`~langchain_huggingface import HuggingFaceEmbeddings``.\n",
      "  embeddings=HuggingFaceEmbeddings(model_name='sentence-transformers/all-MiniLM-L6-v2')\n",
      "d:\\Projects\\HealthCare_Chatbot_openai\\chatbot\\Lib\\site-packages\\tqdm\\auto.py:21: TqdmWarning: IProgress not found. Please update jupyter and ipywidgets. See https://ipywidgets.readthedocs.io/en/stable/user_install.html\n",
      "  from .autonotebook import tqdm as notebook_tqdm\n"
     ]
    }
   ],
   "source": [
    "embeddings = download_hugging_face_embeddings()"
   ]
  },
  {
   "cell_type": "code",
   "execution_count": 77,
   "metadata": {},
   "outputs": [
    {
     "name": "stdout",
     "output_type": "stream",
     "text": [
      "ChromaDB successfully stored the embeddings locally.\n"
     ]
    },
    {
     "name": "stderr",
     "output_type": "stream",
     "text": [
      "C:\\Users\\hp\\AppData\\Local\\Temp\\ipykernel_29896\\2080452644.py:3: LangChainDeprecationWarning: Since Chroma 0.4.x the manual persistence method is no longer supported as docs are automatically persisted.\n",
      "  vector_store.persist()\n"
     ]
    }
   ],
   "source": [
    "chroma_client = chromadb.PersistentClient(path=\"./chroma_db\")\n",
    "vector_store = Chroma.from_documents(text_chunks, embeddings, persist_directory=\"./chroma_db\")\n",
    "vector_store.persist()\n",
    "print(\"ChromaDB successfully stored the embeddings locally.\")"
   ]
  },
  {
   "cell_type": "code",
   "execution_count": 89,
   "metadata": {},
   "outputs": [],
   "source": [
    "chroma_client = chromadb.PersistentClient(path=\"./chroma_db\")\n",
    "retriever = Chroma(persist_directory=\"./chroma_db\", embedding_function=embeddings).as_retriever()"
   ]
  },
  {
   "cell_type": "code",
   "execution_count": 90,
   "metadata": {},
   "outputs": [],
   "source": [
    "from langchain_ollama.llms import OllamaLLM\n",
    "llm = OllamaLLM(model=\"llama3\")"
   ]
  },
  {
   "cell_type": "code",
   "execution_count": 91,
   "metadata": {},
   "outputs": [],
   "source": [
    "from langchain.chains import create_retrieval_chain\n",
    "from langchain.chains.combine_documents import create_stuff_documents_chain\n",
    "from langchain_core.prompts import ChatPromptTemplate"
   ]
  },
  {
   "cell_type": "code",
   "execution_count": 92,
   "metadata": {},
   "outputs": [],
   "source": [
    "system_prompt = (\n",
    "    \"\"\"\n",
    "    You are a professional medical chatbot designed to assist users by answering queries based on the provided medical PDF document. \n",
    "    Your responses must be strictly derived from the contents of the document, ensuring accuracy, clarity, and compliance with medical \n",
    "    guidelines. If the document does not contain the requested information, politely inform the user. Avoid making assumptions or \n",
    "    providing medical advice beyond the document's scope.\n",
    "    {context}\n",
    "    \"\"\"\n",
    ")"
   ]
  },
  {
   "cell_type": "code",
   "execution_count": 93,
   "metadata": {},
   "outputs": [],
   "source": [
    "prompt = ChatPromptTemplate.from_messages(\n",
    "    [\n",
    "        (\"system\", system_prompt),\n",
    "        (\"human\", \"{input}\")\n",
    "    ]\n",
    ")"
   ]
  },
  {
   "cell_type": "code",
   "execution_count": 94,
   "metadata": {},
   "outputs": [],
   "source": [
    "qa_chain = create_stuff_documents_chain(llm, prompt)\n",
    "rag_chain = create_retrieval_chain(retriever, qa_chain)"
   ]
  },
  {
   "cell_type": "code",
   "execution_count": 95,
   "metadata": {},
   "outputs": [
    {
     "name": "stdout",
     "output_type": "stream",
     "text": [
      "{'input': 'what is immunoglobulin?', 'context': [Document(metadata={'page': 138, 'page_label': '109', 'source': 'data\\\\medical_book.pdf', 'text': 'the possible depletion of one or more types of blood\\nKEY TERMS\\nAlkylating agent— Achemicalthataltersthecompo-\\nsition of the genetic material of rapidly dividing cells,\\nsuch as cancer cells, causing selective cell death;\\nused as a chemotherapeutic agent to treat B-CLL.\\nAntibody— A protective protein made by the\\nimmune system in response to an antigen, also\\ncalled an immunoglobulin.\\nAutoimmune— An immune reaction of a patient\\nagainst their own cells.\\nHumanization— Fusing the constant and variable\\nframework region of one or more human immuno-\\nglobulins with the binding region of an animal\\nimmunoglobulin, done to reduce human reaction\\nagainst the fusion antibody.\\nMonoclonal— Genetically engineered antibodies\\nspecific for one antigen.\\nTumor lysis syndrome— A side effect of some immu-'}, page_content='the possible depletion of one or more types of blood\\nKEY TERMS\\nAlkylating agent— Achemicalthataltersthecompo-\\nsition of the genetic material of rapidly dividing cells,\\nsuch as cancer cells, causing selective cell death;\\nused as a chemotherapeutic agent to treat B-CLL.\\nAntibody— A protective protein made by the\\nimmune system in response to an antigen, also\\ncalled an immunoglobulin.\\nAutoimmune— An immune reaction of a patient\\nagainst their own cells.\\nHumanization— Fusing the constant and variable\\nframework region of one or more human immuno-\\nglobulins with the binding region of an animal\\nimmunoglobulin, done to reduce human reaction\\nagainst the fusion antibody.\\nMonoclonal— Genetically engineered antibodies\\nspecific for one antigen.\\nTumor lysis syndrome— A side effect of some immu-'), Document(metadata={'page': 3793, 'page_label': '3764', 'source': 'data\\\\medical_book.pdf', 'text': '0 has neither.\\nAntibody— A simple protein produced by the body\\nto destroy bacteria, viruses, or other foreign bodies.\\nProduction of each antibody is triggered by a spe-\\ncific antigen.\\nAntigen— A substance that stimulates the immune\\nsystem to manufacture antibodies (immunoglobu-\\nlins). The function of antibodies is to fight off intru-\\nder cells, such as bacteria or viruses, in the body.\\nAntigens stimulate the blood to fight other blood\\ncells that have the wrong antigens. If a person with\\nblood type A is given a transfusion with blood type\\nB, the A antigens will fight the foreign blood cells as\\nthough they were an infection.\\nImmunoglobulin— An antibody.\\nInfusion— Introduction of a substance directly into\\na vein or tissue by gravity flow.\\nInjection— Forcing a fluid into the body by means'}, page_content='0 has neither.\\nAntibody— A simple protein produced by the body\\nto destroy bacteria, viruses, or other foreign bodies.\\nProduction of each antibody is triggered by a spe-\\ncific antigen.\\nAntigen— A substance that stimulates the immune\\nsystem to manufacture antibodies (immunoglobu-\\nlins). The function of antibodies is to fight off intru-\\nder cells, such as bacteria or viruses, in the body.\\nAntigens stimulate the blood to fight other blood\\ncells that have the wrong antigens. If a person with\\nblood type A is given a transfusion with blood type\\nB, the A antigens will fight the foreign blood cells as\\nthough they were an infection.\\nImmunoglobulin— An antibody.\\nInfusion— Introduction of a substance directly into\\na vein or tissue by gravity flow.\\nInjection— Forcing a fluid into the body by means'), Document(metadata={'page': 4047, 'page_label': '4018', 'source': 'data\\\\medical_book.pdf', 'text': 'Bruton’s agammaglobulinemia tyrosine kinase\\n(Btk)— An enzyme vital for the maturation of B cells.\\nCarrier— A person who has a genetic defect but\\ndoes not develop any symptoms or signs of the\\ndefect. The carrier’s offspring may inherit the defect\\nand develop the associated disorder.\\nEnzyme— A protein molecule that prompts rapid\\nbiochemical reactions.\\nImmunoglobulin— A protein molecule formed by\\nmature B cells in response to foreign proteins in the\\nbody. There are five types of immunoglobulins, but\\nthe major one is gamma globulin or immunoglobu-\\nlin G.\\nMutation— A change in a gene that alters the func-\\ntion or other characteristics of the gene’s product.\\nX chromosome— One of the two sex chromosomes\\n(the other is Y) that determine a person’s gender.'}, page_content='Bruton’s agammaglobulinemia tyrosine kinase\\n(Btk)— An enzyme vital for the maturation of B cells.\\nCarrier— A person who has a genetic defect but\\ndoes not develop any symptoms or signs of the\\ndefect. The carrier’s offspring may inherit the defect\\nand develop the associated disorder.\\nEnzyme— A protein molecule that prompts rapid\\nbiochemical reactions.\\nImmunoglobulin— A protein molecule formed by\\nmature B cells in response to foreign proteins in the\\nbody. There are five types of immunoglobulins, but\\nthe major one is gamma globulin or immunoglobu-\\nlin G.\\nMutation— A change in a gene that alters the func-\\ntion or other characteristics of the gene’s product.\\nX chromosome— One of the two sex chromosomes\\n(the other is Y) that determine a person’s gender.'), Document(metadata={'page': 3992, 'page_label': '3963', 'source': 'data\\\\medical_book.pdf', 'text': 'globulins (Igs) that bind to and remove the specific\\nantigen.\\nA type of Ig, called IgM, is part of the early\\nimmune response. The IgM molecules form clusters\\nGALE ENCYCLOPEDIA OF MEDICINE 3963'}, page_content='globulins (Igs) that bind to and remove the specific\\nantigen.\\nA type of Ig, called IgM, is part of the early\\nimmune response. The IgM molecules form clusters\\nGALE ENCYCLOPEDIA OF MEDICINE 3963')], 'answer': \"According to the provided medical PDF document, Immunoglobulin (also known as Antibody) is a protein molecule formed by mature B cells in response to foreign proteins in the body. There are five types of immunoglobulins, but the major one is gamma globulin or immunoglobin G. It's also mentioned that an antibody is a simple protein produced by the body to destroy bacteria, viruses, or other foreign bodies, and its production is triggered by a specific antigen.\"}\n"
     ]
    }
   ],
   "source": [
    "response = rag_chain.invoke({\"input\": \"what is immunoglobulin?\"})\n",
    "print(response)"
   ]
  },
  {
   "cell_type": "code",
   "execution_count": 96,
   "metadata": {},
   "outputs": [
    {
     "data": {
      "text/plain": [
       "dict_keys(['input', 'context', 'answer'])"
      ]
     },
     "execution_count": 96,
     "metadata": {},
     "output_type": "execute_result"
    }
   ],
   "source": [
    "response.keys()"
   ]
  },
  {
   "cell_type": "code",
   "execution_count": 98,
   "metadata": {},
   "outputs": [
    {
     "name": "stdout",
     "output_type": "stream",
     "text": [
      "According to the provided medical PDF document, Immunoglobulin (also known as Antibody) is a protein molecule formed by mature B cells in response to foreign proteins in the body. There are five types of immunoglobulins, but the major one is gamma globulin or immunoglobin G. It's also mentioned that an antibody is a simple protein produced by the body to destroy bacteria, viruses, or other foreign bodies, and its production is triggered by a specific antigen.\n"
     ]
    }
   ],
   "source": [
    "print(response[\"answer\"])"
   ]
  },
  {
   "cell_type": "code",
   "execution_count": 99,
   "metadata": {},
   "outputs": [
    {
     "name": "stdout",
     "output_type": "stream",
     "text": [
      "I'm happy to help! However, I must inform you that the provided PDF document does not contain information about \"data structures.\" The text primarily discusses genes, chromosomes, and DNA, which are related to genetics and biology. If you're looking for information on data structures in a computer science context, I'd be happy to assist you with that as well, but please note that it would require a different document or source of information.\n"
     ]
    }
   ],
   "source": [
    "response = rag_chain.invoke({\"input\": \"what is data structures?\"})\n",
    "print(response[\"answer\"])"
   ]
  }
 ],
 "metadata": {
  "kernelspec": {
   "display_name": "chatbot",
   "language": "python",
   "name": "python3"
  },
  "language_info": {
   "codemirror_mode": {
    "name": "ipython",
    "version": 3
   },
   "file_extension": ".py",
   "mimetype": "text/x-python",
   "name": "python",
   "nbconvert_exporter": "python",
   "pygments_lexer": "ipython3",
   "version": "3.12.5"
  }
 },
 "nbformat": 4,
 "nbformat_minor": 2
}
