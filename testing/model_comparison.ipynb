{
 "cells": [
  {
   "cell_type": "code",
   "execution_count": 10,
   "metadata": {},
   "outputs": [],
   "source": [
    "import os\n",
    "os.chdir('../')"
   ]
  },
  {
   "cell_type": "code",
   "execution_count": 11,
   "metadata": {},
   "outputs": [
    {
     "data": {
      "text/plain": [
       "'d:\\\\Projects\\\\HealthCare_Chatbot'"
      ]
     },
     "execution_count": 11,
     "metadata": {},
     "output_type": "execute_result"
    }
   ],
   "source": [
    "%pwd"
   ]
  },
  {
   "cell_type": "code",
   "execution_count": 114,
   "metadata": {},
   "outputs": [],
   "source": [
    "# Queries to try with and actual answers:\n",
    "# What is immunoglobulin?\n",
    "# According to the Gale Encyclopedia of Medicine, an immunoglobulin, also known as an antibody, is a protein molecule \n",
    "# produced by the immune system that specifically binds to foreign substances (antigens) like bacteria or viruses, helping the body to \n",
    "# identify and neutralize them; essentially acting as a key component in the body's defense against infection.\n",
    "\n",
    "# What is Emphysema?\n",
    "# According to the Gale Encyclopedia of Medicine, emphysema is a chronic lung disease where the air sacs (alveoli) in the lungs become \n",
    "# damaged and enlarged, leading to difficulty breathing, primarily caused by long-term exposure to irritants like cigarette smoke, causing \n",
    "# shortness of breath as a primary symptom; it is considered a type of chronic obstructive pulmonary disease (COPD). "
   ]
  },
  {
   "cell_type": "markdown",
   "metadata": {},
   "source": [
    "### Standard Ollama"
   ]
  },
  {
   "cell_type": "code",
   "execution_count": 88,
   "metadata": {},
   "outputs": [],
   "source": [
    "from langchain_ollama.llms import OllamaLLM\n",
    "from langchain_core.prompts import ChatPromptTemplate"
   ]
  },
  {
   "cell_type": "code",
   "execution_count": 6,
   "metadata": {},
   "outputs": [],
   "source": [
    "llm = OllamaLLM(model=\"llama3\")"
   ]
  },
  {
   "cell_type": "code",
   "execution_count": 7,
   "metadata": {},
   "outputs": [],
   "source": [
    "system_prompt = (\n",
    "    \"\"\"\n",
    "    You are a professional medical chatbot.\n",
    "    Answer queries to the best of your ability based only on your pre-trained knowledge.\n",
    "    If you are unsure, politely state that you do not have enough information.\n",
    "    \"\"\"\n",
    ")"
   ]
  },
  {
   "cell_type": "code",
   "execution_count": 12,
   "metadata": {},
   "outputs": [],
   "source": [
    "prompt = ChatPromptTemplate.from_messages(\n",
    "    [\n",
    "        (\"system\", system_prompt),\n",
    "        (\"human\", \"{input}\")\n",
    "    ]\n",
    ")"
   ]
  },
  {
   "cell_type": "code",
   "execution_count": 13,
   "metadata": {},
   "outputs": [
    {
     "name": "stdout",
     "output_type": "stream",
     "text": [
      "Immunoglobulin, also known as antibody or Ig (short for immunoglobulin), is a type of protein produced by the immune system in response to the presence of antigens, such as bacteria, viruses, toxins, and other foreign substances.\n",
      "\n",
      "There are five classes of immunoglobulins:\n",
      "\n",
      "1. Immunoglobulin G (IgG): This is the most common class of antibody, accounting for about 75% of all antibodies in the blood. IgG provides long-term immunity against infections.\n",
      "2. Immunoglobulin A (IgA): Found in mucosal surfaces such as the respiratory, gastrointestinal, and genitourinary tracts, IgA helps protect against infections that enter through these routes.\n",
      "3. Immunoglobulin M (IgM): This class of antibody is produced in response to the initial exposure to an antigen and is often found in the blood plasma. It plays a key role in fighting bacterial infections.\n",
      "4. Immunoglobulin E (IgE): IgE is involved in allergic reactions, such as hay fever or asthma, by binding to mast cells and triggering their release of chemical mediators that cause symptoms like itching, sneezing, and constriction of airways.\n",
      "5. Immunoglobulin D (IgD): This class of antibody is found on the surface of mature B cells and helps activate them for antibody production.\n",
      "\n",
      "Immunoglobulins have several key functions:\n",
      "\n",
      "1. Recognition: They recognize specific antigens, such as bacteria or viruses, through their unique structures.\n",
      "2. Binding: Immunoglobulins bind to antigens, marking them for destruction by other immune cells.\n",
      "3. Neutralization: They can neutralize toxins and viruses by binding to them, preventing them from causing harm.\n",
      "4. Activation: Immunoglobulins can activate immune cells, such as complement proteins, which work together to eliminate pathogens.\n",
      "\n",
      "In summary, immunoglobulin is a vital component of the immune system that helps protect the body against infections and other foreign substances.\n"
     ]
    }
   ],
   "source": [
    "query = \"What is immunoglobulin?\"\n",
    "response = llm.invoke(query)\n",
    "print(response)"
   ]
  },
  {
   "cell_type": "markdown",
   "metadata": {},
   "source": [
    "### Keyword Search-Based Retrieval"
   ]
  },
  {
   "cell_type": "code",
   "execution_count": 7,
   "metadata": {},
   "outputs": [],
   "source": [
    "from langchain.document_loaders import PyPDFLoader, DirectoryLoader\n",
    "from langchain.text_splitter import RecursiveCharacterTextSplitter"
   ]
  },
  {
   "cell_type": "code",
   "execution_count": 8,
   "metadata": {},
   "outputs": [],
   "source": [
    "def load_pdf_file(data):\n",
    "    loader= DirectoryLoader(data, glob=\"*.pdf\", loader_cls=PyPDFLoader)\n",
    "    documents=loader.load()\n",
    "    return documents"
   ]
  },
  {
   "cell_type": "code",
   "execution_count": 12,
   "metadata": {},
   "outputs": [],
   "source": [
    "extracted_data=load_pdf_file(data='data/')"
   ]
  },
  {
   "cell_type": "code",
   "execution_count": 13,
   "metadata": {},
   "outputs": [],
   "source": [
    "def split_text_data(extracted_data):\n",
    "    text_splitter=RecursiveCharacterTextSplitter(chunk_size=800, chunk_overlap=100)\n",
    "    text_chunks=text_splitter.split_documents(extracted_data)\n",
    "    return text_chunks\n",
    "\n",
    "text_chunks=split_text_data(extracted_data)"
   ]
  },
  {
   "cell_type": "code",
   "execution_count": 57,
   "metadata": {},
   "outputs": [],
   "source": [
    "from rank_bm25 import BM25Okapi\n",
    "import nltk\n",
    "from nltk.tokenize import word_tokenize, sent_tokenize"
   ]
  },
  {
   "cell_type": "code",
   "execution_count": 79,
   "metadata": {},
   "outputs": [
    {
     "name": "stderr",
     "output_type": "stream",
     "text": [
      "[nltk_data] Downloading package punkt to\n",
      "[nltk_data]     C:\\Users\\hp\\AppData\\Roaming\\nltk_data...\n",
      "[nltk_data]   Package punkt is already up-to-date!\n"
     ]
    },
    {
     "data": {
      "text/plain": [
       "True"
      ]
     },
     "execution_count": 79,
     "metadata": {},
     "output_type": "execute_result"
    }
   ],
   "source": [
    "nltk.download('punkt')"
   ]
  },
  {
   "cell_type": "code",
   "execution_count": 82,
   "metadata": {},
   "outputs": [
    {
     "name": "stderr",
     "output_type": "stream",
     "text": [
      "[nltk_data] Downloading package punkt_tab to\n",
      "[nltk_data]     C:\\Users\\hp\\AppData\\Roaming\\nltk_data...\n",
      "[nltk_data]   Unzipping tokenizers\\punkt_tab.zip.\n"
     ]
    },
    {
     "data": {
      "text/plain": [
       "True"
      ]
     },
     "execution_count": 82,
     "metadata": {},
     "output_type": "execute_result"
    }
   ],
   "source": [
    "nltk.download('punkt_tab')"
   ]
  },
  {
   "cell_type": "code",
   "execution_count": 83,
   "metadata": {},
   "outputs": [],
   "source": [
    "# Convert document text chunks into tokenized sentences\n",
    "corpus = [chunk.page_content for chunk in text_chunks]\n",
    "tokenized_corpus = [word_tokenize(doc.lower()) for doc in corpus]"
   ]
  },
  {
   "cell_type": "code",
   "execution_count": 84,
   "metadata": {},
   "outputs": [],
   "source": [
    "bm25 = BM25Okapi(tokenized_corpus)"
   ]
  },
  {
   "cell_type": "code",
   "execution_count": 85,
   "metadata": {},
   "outputs": [],
   "source": [
    "def bm25_retrieve(query, k):\n",
    "    tokenized_query = word_tokenize(query.lower())\n",
    "    scores = bm25.get_scores(tokenized_query)\n",
    "    top_n = sorted(range(len(scores)), key=lambda i: scores[i], reverse=True)[:k]\n",
    "    return [corpus[i] for i in top_n]"
   ]
  },
  {
   "cell_type": "code",
   "execution_count": 89,
   "metadata": {},
   "outputs": [],
   "source": [
    "llm = OllamaLLM(model=\"llama3\")"
   ]
  },
  {
   "cell_type": "code",
   "execution_count": 90,
   "metadata": {},
   "outputs": [],
   "source": [
    "query = \"What is immunoglobulin?\"\n",
    "retrieved_chunks = bm25_retrieve(query, 3)\n",
    "context = \" \".join(retrieved_chunks)"
   ]
  },
  {
   "cell_type": "code",
   "execution_count": 94,
   "metadata": {},
   "outputs": [],
   "source": [
    "system_prompt = f\"\"\"\n",
    "You are a professional medical chatbot designed to assist users by answering queries based on the provided medical PDF document. \n",
    "Your responses must be strictly derived from the contents of the document, ensuring accuracy, clarity, and compliance with medical \n",
    "guidelines. If the document does not contain the requested information, politely inform the user. Avoid making assumptions or \n",
    "providing medical advice beyond the document's scope.\n",
    "{context}\n",
    "\"\"\""
   ]
  },
  {
   "cell_type": "code",
   "execution_count": 95,
   "metadata": {},
   "outputs": [
    {
     "name": "stdout",
     "output_type": "stream",
     "text": [
      "According to the provided PDF document, immunoelectrophoresis is also known as gamma globulin electrophoresis or immunoglobulin electrophoresis. It is a method used to determine the blood levels of three major immunoglobulins: IgM (immunoglobulin M), IgG (immunoglobulin G), and IgA (immunoglobulin A).\n"
     ]
    }
   ],
   "source": [
    "response = llm.invoke(system_prompt + query)\n",
    "print(response)"
   ]
  },
  {
   "cell_type": "markdown",
   "metadata": {},
   "source": [
    "### Scoring/Evaluation Metrics"
   ]
  },
  {
   "cell_type": "code",
   "execution_count": 106,
   "metadata": {},
   "outputs": [],
   "source": [
    "reference_answer = \"\"\"According to the Gale Encyclopedia of Medicine, an immunoglobulin, also known as an antibody, is a protein molecule \n",
    "produced by the immune system that specifically binds to foreign substances (antigens) like bacteria or viruses, helping the body to \n",
    "identify and neutralize them; essentially acting as a key component in the body's defense against infection.\"\"\""
   ]
  },
  {
   "cell_type": "code",
   "execution_count": 107,
   "metadata": {},
   "outputs": [],
   "source": [
    "llm_rag_chain_answer = \"According to the provided medical PDF document, Immunoglobulin (also known as Antibody) is a protein molecule formed by mature B cells in response to foreign proteins in the body. There are five types of immunoglobulins, but the major one is gamma globulin or immunoglobin G. It's also mentioned that an antibody is a simple protein produced by the body to destroy bacteria, viruses, or other foreign bodies, and its production is triggered by a specific antigen.\"\n",
    "\n",
    "standard_mode_answer = \"\"\"\n",
    "Immunoglobulin, also known as antibody or Ig (short for immunoglobulin), is a type of protein produced by the immune system in response to the presence of antigens, such as bacteria, viruses, toxins, and other foreign substances.\n",
    "\n",
    "There are five classes of immunoglobulins:\n",
    "\n",
    "1. Immunoglobulin G (IgG): This is the most common class of antibody, accounting for about 75% of all antibodies in the blood. IgG provides long-term immunity against infections.\n",
    "2. Immunoglobulin A (IgA): Found in mucosal surfaces such as the respiratory, gastrointestinal, and genitourinary tracts, IgA helps protect against infections that enter through these routes.\n",
    "3. Immunoglobulin M (IgM): This class of antibody is produced in response to the initial exposure to an antigen and is often found in the blood plasma. It plays a key role in fighting bacterial infections.\n",
    "4. Immunoglobulin E (IgE): IgE is involved in allergic reactions, such as hay fever or asthma, by binding to mast cells and triggering their release of chemical mediators that cause symptoms like itching, sneezing, and constriction of airways.\n",
    "5. Immunoglobulin D (IgD): This class of antibody is found on the surface of mature B cells and helps activate them for antibody production.\n",
    "\n",
    "Immunoglobulins have several key functions:\n",
    "\n",
    "1. Recognition: They recognize specific antigens, such as bacteria or viruses, through their unique structures.\n",
    "2. Binding: Immunoglobulins bind to antigens, marking them for destruction by other immune cells.\n",
    "3. Neutralization: They can neutralize toxins and viruses by binding to them, preventing them from causing harm.\n",
    "4. Activation: Immunoglobulins can activate immune cells, such as complement proteins, which work together to eliminate pathogens.\n",
    "\n",
    "In summary, immunoglobulin is a vital component of the immune system that helps protect the body against infections and other foreign substances.\n",
    "\"\"\"\n",
    "\n",
    "BM25_llm_answer = \"According to the provided PDF document, immunoelectrophoresis is also known as gamma globulin electrophoresis or immunoglobulin electrophoresis. It is a method used to determine the blood levels of three major immunoglobulins: IgM (immunoglobulin M), IgG (immunoglobulin G), and IgA (immunoglobulin A).\""
   ]
  },
  {
   "cell_type": "markdown",
   "metadata": {},
   "source": [
    "### Rouge Scoring\n",
    "\n",
    "The ROUGE score is a metric used to assess the quality of natural language generation. I'll be using rouge_scorer library for the evaluation. \n",
    "What it measures\n",
    "1. n-grams The number of times a sequence of words (\\(n\\)-gram) appears in both the generated response and the reference text\n",
    "2. Precision The number of matching words between the generated response and the reference text  Recall The number of overlapping words between the generated response and the reference text\n",
    "3. F1 score A combination of precision and recall\n",
    "\n",
    "\n",
    "What are some different types of ROUGE scores?\n",
    "\n",
    "1. ROUGE-1: Based on unigrams, or single words \n",
    "2. ROUGE-2: Based on bigrams, or pairs of words \n",
    "3. ROUGE-L: Based on the longest common subsequence (LCS) \n",
    "4. ROUGE-S: A skip-gram concurrence metric that allows words to be separated by one or more words in the model output\n",
    "\n",
    "Why the Emphasis on ROUGE-L?\n",
    "\n",
    "LLMs are designed to generate text that is not only accurate in terms of word choice but also coherent and well-structured. ROUGE-L is particularly well-suited to capture these aspects of text generation. It focuses on the longest common subsequence, which means it is sensitive to the overall flow of information and the order of words."
   ]
  },
  {
   "cell_type": "markdown",
   "metadata": {},
   "source": [
    "Rouge score for llm rag chain answer"
   ]
  },
  {
   "cell_type": "code",
   "execution_count": 108,
   "metadata": {},
   "outputs": [
    {
     "name": "stdout",
     "output_type": "stream",
     "text": [
      "{'rouge1': Score(precision=0.4155844155844156, recall=0.5818181818181818, fmeasure=0.48484848484848486), 'rouge2': Score(precision=0.2236842105263158, recall=0.3148148148148148, fmeasure=0.26153846153846155), 'rougeL': Score(precision=0.2727272727272727, recall=0.38181818181818183, fmeasure=0.3181818181818182)}\n"
     ]
    }
   ],
   "source": [
    "from rouge_score import rouge_scorer\n",
    "\n",
    "scorer = rouge_scorer.RougeScorer(['rouge1', 'rouge2', 'rougeL'])\n",
    "\n",
    "scores1 = scorer.score(reference_answer, llm_rag_chain_answer)\n",
    "print(scores1)"
   ]
  },
  {
   "cell_type": "markdown",
   "metadata": {},
   "source": [
    "Rouge score for standard llm model answer"
   ]
  },
  {
   "cell_type": "code",
   "execution_count": 109,
   "metadata": {},
   "outputs": [
    {
     "name": "stdout",
     "output_type": "stream",
     "text": [
      "{'rouge1': Score(precision=0.1368421052631579, recall=0.7090909090909091, fmeasure=0.22941176470588237), 'rouge2': Score(precision=0.05985915492957746, recall=0.3148148148148148, fmeasure=0.10059171597633136), 'rougeL': Score(precision=0.10175438596491228, recall=0.5272727272727272, fmeasure=0.17058823529411765)}\n"
     ]
    }
   ],
   "source": [
    "scores2 = scorer.score(reference_answer, standard_mode_answer)\n",
    "print(scores2)"
   ]
  },
  {
   "cell_type": "markdown",
   "metadata": {},
   "source": [
    "Rouge score for llm coupled with bm25 tokenizer"
   ]
  },
  {
   "cell_type": "code",
   "execution_count": 110,
   "metadata": {},
   "outputs": [
    {
     "name": "stdout",
     "output_type": "stream",
     "text": [
      "{'rouge1': Score(precision=0.36585365853658536, recall=0.2727272727272727, fmeasure=0.31249999999999994), 'rouge2': Score(precision=0.125, recall=0.09259259259259259, fmeasure=0.10638297872340426), 'rougeL': Score(precision=0.2926829268292683, recall=0.21818181818181817, fmeasure=0.25)}\n"
     ]
    }
   ],
   "source": [
    "scores3 = scorer.score(reference_answer, BM25_llm_answer)\n",
    "print(scores3)"
   ]
  },
  {
   "cell_type": "markdown",
   "metadata": {},
   "source": [
    "### Relevance and Accuracy via Embeddings\n",
    "\n",
    "Sentence Transformer Similarity: Unlike ROUGE, which is based on word overlap, sentence transformers capture semantic meaning. Two sentences can have very few words in common but still be semantically similar. This is crucial for LLM evaluation, as LLMs often paraphrase or express ideas differently than the reference text."
   ]
  },
  {
   "cell_type": "code",
   "execution_count": 111,
   "metadata": {},
   "outputs": [
    {
     "name": "stdout",
     "output_type": "stream",
     "text": [
      "tensor([[0.9010]])\n"
     ]
    }
   ],
   "source": [
    "from sentence_transformers import SentenceTransformer, util\n",
    "\n",
    "model = SentenceTransformer('all-MiniLM-L6-v2')\n",
    "score = util.pytorch_cos_sim(model.encode(reference_answer), model.encode(llm_rag_chain_answer))\n",
    "print(score)"
   ]
  },
  {
   "cell_type": "code",
   "execution_count": 112,
   "metadata": {},
   "outputs": [
    {
     "name": "stdout",
     "output_type": "stream",
     "text": [
      "tensor([[0.7879]])\n"
     ]
    }
   ],
   "source": [
    "score2 = util.pytorch_cos_sim(model.encode(reference_answer), model.encode(standard_mode_answer))\n",
    "print(score2)"
   ]
  },
  {
   "cell_type": "code",
   "execution_count": 113,
   "metadata": {},
   "outputs": [
    {
     "name": "stdout",
     "output_type": "stream",
     "text": [
      "tensor([[0.5540]])\n"
     ]
    }
   ],
   "source": [
    "score3 = util.pytorch_cos_sim(model.encode(reference_answer), model.encode(BM25_llm_answer))\n",
    "print(score3)"
   ]
  }
 ],
 "metadata": {
  "kernelspec": {
   "display_name": "chatbot",
   "language": "python",
   "name": "python3"
  },
  "language_info": {
   "codemirror_mode": {
    "name": "ipython",
    "version": 3
   },
   "file_extension": ".py",
   "mimetype": "text/x-python",
   "name": "python",
   "nbconvert_exporter": "python",
   "pygments_lexer": "ipython3",
   "version": "3.12.5"
  }
 },
 "nbformat": 4,
 "nbformat_minor": 2
}
